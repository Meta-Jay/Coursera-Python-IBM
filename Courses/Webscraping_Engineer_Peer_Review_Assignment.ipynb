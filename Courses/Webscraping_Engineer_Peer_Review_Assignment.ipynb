{
 "cells": [
  {
   "cell_type": "markdown",
   "metadata": {},
   "source": [
    "<center>\n",
    "    <img src=\"https://gitlab.com/ibm/skills-network/courses/placeholder101/-/raw/master/labs/module%201/images/IDSNlogo.png\" width=\"300\" alt=\"cognitiveclass.ai logo\"  />\n",
    "</center>\n"
   ]
  },
  {
   "cell_type": "markdown",
   "metadata": {},
   "source": [
    "# Peer Review Assignment - Data Engineer - Webscraping\n"
   ]
  },
  {
   "cell_type": "markdown",
   "metadata": {},
   "source": [
    "Estimated time needed: **20** minutes\n"
   ]
  },
  {
   "cell_type": "markdown",
   "metadata": {},
   "source": [
    "## Objectives\n",
    "\n",
    "In this part you will:\n",
    "\n",
    "*   Use webscraping to get bank information\n"
   ]
  },
  {
   "cell_type": "markdown",
   "metadata": {},
   "source": [
    "For this lab, we are going to be using Python and several Python libraries. Some of these libraries might be installed in your lab environment or in SN Labs. Others may need to be installed by you. The cells below will install these libraries when executed.\n"
   ]
  },
  {
   "cell_type": "code",
   "execution_count": 1,
   "metadata": {},
   "outputs": [
    {
     "name": "stdout",
     "output_type": "stream",
     "text": [
      "Collecting bs4\n",
      "  Downloading bs4-0.0.1.tar.gz (1.1 kB)\n",
      "  Preparing metadata (setup.py) ... \u001b[?25ldone\n",
      "\u001b[?25hCollecting beautifulsoup4\n",
      "  Downloading beautifulsoup4-4.10.0-py3-none-any.whl (97 kB)\n",
      "     |████████████████████████████████| 97 kB 6.0 MB/s             \n",
      "\u001b[?25hCollecting soupsieve>1.2\n",
      "  Downloading soupsieve-2.3.1-py3-none-any.whl (37 kB)\n",
      "Building wheels for collected packages: bs4\n",
      "  Building wheel for bs4 (setup.py) ... \u001b[?25ldone\n",
      "\u001b[?25h  Created wheel for bs4: filename=bs4-0.0.1-py3-none-any.whl size=1271 sha256=c91edc75d42de34ff30cdcb86dcf9038e1fb6f2bd26782ce2e4750e732ff5a22\n",
      "  Stored in directory: /home/jupyterlab/.cache/pip/wheels/0a/9e/ba/20e5bbc1afef3a491f0b3bb74d508f99403aabe76eda2167ca\n",
      "Successfully built bs4\n",
      "Installing collected packages: soupsieve, beautifulsoup4, bs4\n",
      "Successfully installed beautifulsoup4-4.10.0 bs4-0.0.1 soupsieve-2.3.1\n"
     ]
    }
   ],
   "source": [
    "#!pip install pandas\n",
    "!pip install bs4\n",
    "#!pip install requests"
   ]
  },
  {
   "cell_type": "markdown",
   "metadata": {},
   "source": [
    "## Imports\n",
    "\n",
    "Import any additional libraries you may need here.\n"
   ]
  },
  {
   "cell_type": "code",
   "execution_count": 2,
   "metadata": {},
   "outputs": [],
   "source": [
    "from bs4 import BeautifulSoup\n",
    "import requests\n",
    "import pandas as pd"
   ]
  },
  {
   "cell_type": "markdown",
   "metadata": {},
   "source": [
    "## Extract Data Using Web Scraping\n"
   ]
  },
  {
   "cell_type": "markdown",
   "metadata": {},
   "source": [
    "The wikipedia webpage [https://en.wikipedia.org/wiki/List_of_largest_banks](https://en.wikipedia.org/wiki/List_of_largest_banks?utm_medium=Exinfluencer&utm_source=Exinfluencer&utm_content=000026UJ&utm_term=10006555&utm_id=NA-SkillsNetwork-Channel-SkillsNetworkCoursesIBMDeveloperSkillsNetworkPY0221ENSkillsNetwork23455645-2021-01-01) provides information about largest banks in the world by various parameters. Scrape the data from the table 'By market capitalization' and store it in a JSON file.\n"
   ]
  },
  {
   "cell_type": "markdown",
   "metadata": {},
   "source": [
    "### Webpage Contents\n",
    "\n",
    "Gather the contents of the webpage in text format using the `requests` library and assign it to the variable <code>html_data</code>\n"
   ]
  },
  {
   "cell_type": "code",
   "execution_count": 115,
   "metadata": {},
   "outputs": [
    {
     "data": {
      "text/html": [
       "<div>\n",
       "<style scoped>\n",
       "    .dataframe tbody tr th:only-of-type {\n",
       "        vertical-align: middle;\n",
       "    }\n",
       "\n",
       "    .dataframe tbody tr th {\n",
       "        vertical-align: top;\n",
       "    }\n",
       "\n",
       "    .dataframe thead th {\n",
       "        text-align: right;\n",
       "    }\n",
       "</style>\n",
       "<table border=\"1\" class=\"dataframe\">\n",
       "  <thead>\n",
       "    <tr style=\"text-align: right;\">\n",
       "      <th></th>\n",
       "      <th>success</th>\n",
       "      <th>timestamp</th>\n",
       "      <th>base</th>\n",
       "      <th>date</th>\n",
       "      <th>rates</th>\n",
       "    </tr>\n",
       "  </thead>\n",
       "  <tbody>\n",
       "    <tr>\n",
       "      <th>AED</th>\n",
       "      <td>True</td>\n",
       "      <td>1639457056</td>\n",
       "      <td>EUR</td>\n",
       "      <td>2021-12-14</td>\n",
       "      <td>4.141981</td>\n",
       "    </tr>\n",
       "    <tr>\n",
       "      <th>AFN</th>\n",
       "      <td>True</td>\n",
       "      <td>1639457056</td>\n",
       "      <td>EUR</td>\n",
       "      <td>2021-12-14</td>\n",
       "      <td>116.738180</td>\n",
       "    </tr>\n",
       "    <tr>\n",
       "      <th>ALL</th>\n",
       "      <td>True</td>\n",
       "      <td>1639457056</td>\n",
       "      <td>EUR</td>\n",
       "      <td>2021-12-14</td>\n",
       "      <td>120.935957</td>\n",
       "    </tr>\n",
       "    <tr>\n",
       "      <th>AMD</th>\n",
       "      <td>True</td>\n",
       "      <td>1639457056</td>\n",
       "      <td>EUR</td>\n",
       "      <td>2021-12-14</td>\n",
       "      <td>558.853522</td>\n",
       "    </tr>\n",
       "    <tr>\n",
       "      <th>ANG</th>\n",
       "      <td>True</td>\n",
       "      <td>1639457056</td>\n",
       "      <td>EUR</td>\n",
       "      <td>2021-12-14</td>\n",
       "      <td>2.030825</td>\n",
       "    </tr>\n",
       "    <tr>\n",
       "      <th>...</th>\n",
       "      <td>...</td>\n",
       "      <td>...</td>\n",
       "      <td>...</td>\n",
       "      <td>...</td>\n",
       "      <td>...</td>\n",
       "    </tr>\n",
       "    <tr>\n",
       "      <th>YER</th>\n",
       "      <td>True</td>\n",
       "      <td>1639457056</td>\n",
       "      <td>EUR</td>\n",
       "      <td>2021-12-14</td>\n",
       "      <td>282.194804</td>\n",
       "    </tr>\n",
       "    <tr>\n",
       "      <th>ZAR</th>\n",
       "      <td>True</td>\n",
       "      <td>1639457056</td>\n",
       "      <td>EUR</td>\n",
       "      <td>2021-12-14</td>\n",
       "      <td>18.091515</td>\n",
       "    </tr>\n",
       "    <tr>\n",
       "      <th>ZMK</th>\n",
       "      <td>True</td>\n",
       "      <td>1639457056</td>\n",
       "      <td>EUR</td>\n",
       "      <td>2021-12-14</td>\n",
       "      <td>10150.216122</td>\n",
       "    </tr>\n",
       "    <tr>\n",
       "      <th>ZMW</th>\n",
       "      <td>True</td>\n",
       "      <td>1639457056</td>\n",
       "      <td>EUR</td>\n",
       "      <td>2021-12-14</td>\n",
       "      <td>18.228325</td>\n",
       "    </tr>\n",
       "    <tr>\n",
       "      <th>ZWL</th>\n",
       "      <td>True</td>\n",
       "      <td>1639457056</td>\n",
       "      <td>EUR</td>\n",
       "      <td>2021-12-14</td>\n",
       "      <td>363.103753</td>\n",
       "    </tr>\n",
       "  </tbody>\n",
       "</table>\n",
       "<p>168 rows × 5 columns</p>\n",
       "</div>"
      ],
      "text/plain": [
       "     success   timestamp base        date         rates\n",
       "AED     True  1639457056  EUR  2021-12-14      4.141981\n",
       "AFN     True  1639457056  EUR  2021-12-14    116.738180\n",
       "ALL     True  1639457056  EUR  2021-12-14    120.935957\n",
       "AMD     True  1639457056  EUR  2021-12-14    558.853522\n",
       "ANG     True  1639457056  EUR  2021-12-14      2.030825\n",
       "..       ...         ...  ...         ...           ...\n",
       "YER     True  1639457056  EUR  2021-12-14    282.194804\n",
       "ZAR     True  1639457056  EUR  2021-12-14     18.091515\n",
       "ZMK     True  1639457056  EUR  2021-12-14  10150.216122\n",
       "ZMW     True  1639457056  EUR  2021-12-14     18.228325\n",
       "ZWL     True  1639457056  EUR  2021-12-14    363.103753\n",
       "\n",
       "[168 rows x 5 columns]"
      ]
     },
     "execution_count": 115,
     "metadata": {},
     "output_type": "execute_result"
    }
   ],
   "source": [
    "#Write your code here\n",
    "url_target = 'https://en.wikipedia.org/wiki/List_of_largest_banks'\n",
    "r = requests.get(url_target)\n",
    "html_data = r.text\n"
   ]
  },
  {
   "cell_type": "markdown",
   "metadata": {},
   "source": [
    "<b>Question 1</b> Print out the output of the following line, and remember it as it will be a quiz question:\n"
   ]
  },
  {
   "cell_type": "code",
   "execution_count": 10,
   "metadata": {},
   "outputs": [
    {
     "data": {
      "text/plain": [
       "'List of largest banks -'"
      ]
     },
     "execution_count": 10,
     "metadata": {},
     "output_type": "execute_result"
    }
   ],
   "source": [
    "#data[101:124]\n",
    "html_data[101:124]"
   ]
  },
  {
   "cell_type": "markdown",
   "metadata": {},
   "source": [
    "### Scraping the Data\n",
    "\n",
    "<b> Question 2</b> Using the contents and `beautiful soup` load the data from the `By market capitalization` table into a `pandas` dataframe. The dataframe should have the country `Name` and `Market Cap (US$ Billion)` as column names.  Display the first five rows using head.\n"
   ]
  },
  {
   "cell_type": "markdown",
   "metadata": {},
   "source": [
    "Using BeautifulSoup parse the contents of the webpage.\n"
   ]
  },
  {
   "cell_type": "code",
   "execution_count": 55,
   "metadata": {},
   "outputs": [
    {
     "name": "stdout",
     "output_type": "stream",
     "text": [
      "3\n"
     ]
    }
   ],
   "source": [
    "#Replace the dots below\n",
    "#soup=\"......\"\n",
    "soup = BeautifulSoup(html_data, 'html.parser')\n",
    "#print(soup.prettify())\n",
    "soup1 = soup.find_all('tbody')\n",
    "\n",
    "table_index = 0\n",
    "for index,table in enumerate(soup1):\n",
    "    #print(index, table)\n",
    "    if (\"Market cap\" in str(table)):\n",
    "        table_index = index\n",
    "        break\n",
    "print(table_index)\n",
    "\n",
    "\n",
    "#soup2 = soup1.find_all('tr')\n",
    "#soup2[1].find_all('td')\n",
    "#soup3 = soup1.find_all('td')\n",
    "\n",
    "#soup1 = soup1.find_all('td')"
   ]
  },
  {
   "cell_type": "markdown",
   "metadata": {},
   "source": [
    "Load the data from the `By market capitalization` table into a pandas dataframe. The dataframe should have the country `Name` and `Market Cap (US$ Billion)` as column names. Using the empty dataframe `data` and the given loop extract the necessary data from each row and append it to the empty dataframe.\n"
   ]
  },
  {
   "cell_type": "code",
   "execution_count": 86,
   "metadata": {},
   "outputs": [
    {
     "data": {
      "text/html": [
       "<div>\n",
       "<style scoped>\n",
       "    .dataframe tbody tr th:only-of-type {\n",
       "        vertical-align: middle;\n",
       "    }\n",
       "\n",
       "    .dataframe tbody tr th {\n",
       "        vertical-align: top;\n",
       "    }\n",
       "\n",
       "    .dataframe thead th {\n",
       "        text-align: right;\n",
       "    }\n",
       "</style>\n",
       "<table border=\"1\" class=\"dataframe\">\n",
       "  <thead>\n",
       "    <tr style=\"text-align: right;\">\n",
       "      <th></th>\n",
       "      <th>Name</th>\n",
       "      <th>Market Cap (US$ Billion)</th>\n",
       "    </tr>\n",
       "  </thead>\n",
       "  <tbody>\n",
       "    <tr>\n",
       "      <th>0</th>\n",
       "      <td>JPMorgan Chase</td>\n",
       "      <td>488.470</td>\n",
       "    </tr>\n",
       "    <tr>\n",
       "      <th>1</th>\n",
       "      <td>Bank of America</td>\n",
       "      <td>379.250</td>\n",
       "    </tr>\n",
       "    <tr>\n",
       "      <th>2</th>\n",
       "      <td>Industrial and Commercial Bank of China</td>\n",
       "      <td>246.500</td>\n",
       "    </tr>\n",
       "    <tr>\n",
       "      <th>3</th>\n",
       "      <td>Wells Fargo</td>\n",
       "      <td>308.013</td>\n",
       "    </tr>\n",
       "    <tr>\n",
       "      <th>4</th>\n",
       "      <td>China Construction Bank</td>\n",
       "      <td>257.399</td>\n",
       "    </tr>\n",
       "    <tr>\n",
       "      <th>...</th>\n",
       "      <td>...</td>\n",
       "      <td>...</td>\n",
       "    </tr>\n",
       "    <tr>\n",
       "      <th>65</th>\n",
       "      <td>Ping An Bank</td>\n",
       "      <td>37.993</td>\n",
       "    </tr>\n",
       "    <tr>\n",
       "      <th>66</th>\n",
       "      <td>Standard Chartered</td>\n",
       "      <td>37.319</td>\n",
       "    </tr>\n",
       "    <tr>\n",
       "      <th>67</th>\n",
       "      <td>United Overseas Bank</td>\n",
       "      <td>35.128</td>\n",
       "    </tr>\n",
       "    <tr>\n",
       "      <th>68</th>\n",
       "      <td>QNB Group</td>\n",
       "      <td>33.560</td>\n",
       "    </tr>\n",
       "    <tr>\n",
       "      <th>69</th>\n",
       "      <td>Bank Rakyat Indonesia</td>\n",
       "      <td>33.081</td>\n",
       "    </tr>\n",
       "  </tbody>\n",
       "</table>\n",
       "<p>70 rows × 2 columns</p>\n",
       "</div>"
      ],
      "text/plain": [
       "                                       Name Market Cap (US$ Billion)\n",
       "0                            JPMorgan Chase                  488.470\n",
       "1                           Bank of America                  379.250\n",
       "2   Industrial and Commercial Bank of China                  246.500\n",
       "3                               Wells Fargo                  308.013\n",
       "4                   China Construction Bank                  257.399\n",
       "..                                      ...                      ...\n",
       "65                             Ping An Bank                   37.993\n",
       "66                       Standard Chartered                   37.319\n",
       "67                     United Overseas Bank                   35.128\n",
       "68                                QNB Group                   33.560\n",
       "69                    Bank Rakyat Indonesia                   33.081\n",
       "\n",
       "[70 rows x 2 columns]"
      ]
     },
     "execution_count": 86,
     "metadata": {},
     "output_type": "execute_result"
    }
   ],
   "source": [
    "data = pd.DataFrame(columns=[\"Name\", \"Market Cap (US$ Billion)\"])\n",
    "\n",
    "#print(soup.find_all('tbody')[3].find_all('tr')[1].find_all('td')[1].text.strip())\n",
    "      \n",
    "for row in soup.find_all('tbody')[3].find_all('tr'):\n",
    "    col = row.find_all('td')\n",
    "    \n",
    "    if (col != []):\n",
    "        bank_name = col[1].text.strip()\n",
    "        bank_market_cap = col[2].text.strip()\n",
    "        \n",
    "        #data['Name'] = bank_name\n",
    "        #data.Market Cap (US$ Billion)= bank_market_cap\n",
    "        #data.Name = \n",
    "        data = data.append({\"Name\":bank_name, \"Market Cap (US$ Billion)\":bank_market_cap}, ignore_index = True)\n",
    "        \"\"\"\n",
    "        rank = col[0].text.strip()\n",
    "        country = col[1].text.strip()\n",
    "        population = col[2].text.strip()\n",
    "        area = col[3].text.strip()\n",
    "        density = col[4].text.strip()\n",
    "        population_data = population_data.append({\"Rank\":rank, \"Country\":country, \"Population\":population, \"Area\":area, \"Density\":density}, ignore_index=True)\n",
    "        \"\"\"\n",
    "    #Write your code here\n",
    "data"
   ]
  },
  {
   "cell_type": "markdown",
   "metadata": {},
   "source": [
    "**Question 3** Display the first five rows using the `head` function.\n"
   ]
  },
  {
   "cell_type": "code",
   "execution_count": 138,
   "metadata": {},
   "outputs": [
    {
     "name": "stdout",
     "output_type": "stream",
     "text": [
      "{'success': True, 'timestamp': 1639460355, 'base': 'EUR', 'date': '2021-12-14', 'rates': {'AED': 4.142591, 'AFN': 116.757698, 'ALL': 120.956177, 'AMD': 558.946961, 'ANG': 2.031164, 'AOA': 630.667473, 'ARS': 114.652861, 'AUD': 1.587268, 'AWG': 2.030678, 'AZN': 1.920089, 'BAM': 1.955338, 'BBD': 2.275797, 'BDT': 96.70401, 'BGN': 1.955965, 'BHD': 0.425234, 'BIF': 2246.376123, 'BMD': 1.127841, 'BND': 1.540942, 'BOB': 7.771611, 'BRL': 6.407609, 'BSD': 1.127117, 'BTC': 2.3968899e-05, 'BTN': 85.399203, 'BWP': 13.212513, 'BYN': 2.855544, 'BYR': 22105.690964, 'BZD': 2.271998, 'CAD': 1.446, 'CDF': 2256.810291, 'CHF': 1.041263, 'CLF': 0.034392, 'CLP': 948.976764, 'CNY': 7.178823, 'COP': 4383.355507, 'CRC': 719.589288, 'CUC': 1.127841, 'CUP': 29.887796, 'CVE': 110.236789, 'CZK': 25.407223, 'DJF': 200.656871, 'DKK': 7.435969, 'DOP': 63.856864, 'DZD': 156.880454, 'EGP': 17.715342, 'ERN': 16.917709, 'ETB': 54.905707, 'EUR': 1, 'FJD': 2.406363, 'FKP': 0.85082, 'GBP': 0.854215, 'GEL': 3.49062, 'GGP': 0.85082, 'GHS': 6.920629, 'GIP': 0.85082, 'GMD': 59.217777, 'GNF': 10698.823746, 'GTQ': 8.718469, 'GYD': 235.799657, 'HKD': 8.799255, 'HNL': 27.265122, 'HRK': 7.522814, 'HTG': 113.340995, 'HUF': 367.845553, 'IDR': 16175.952147, 'ILS': 3.509132, 'IMP': 0.85082, 'INR': 85.640436, 'IQD': 1645.073598, 'IRR': 47651.298519, 'ISK': 147.611674, 'JEP': 0.85082, 'JMD': 174.440799, 'JOD': 0.799869, 'JPY': 128.1177, 'KES': 127.254094, 'KGS': 95.639929, 'KHR': 4585.226601, 'KMF': 491.597868, 'KPW': 1015.057151, 'KRW': 1334.738269, 'KWD': 0.341775, 'KYD': 0.93936, 'KZT': 491.824138, 'LAK': 12410.868931, 'LBP': 1704.448704, 'LKR': 227.682634, 'LRD': 159.758761, 'LSL': 18.05681, 'LTL': 3.330223, 'LVL': 0.68222, 'LYD': 5.182174, 'MAD': 10.439029, 'MDL': 19.930211, 'MGA': 4475.688429, 'MKD': 61.599782, 'MMK': 2006.32106, 'MNT': 3223.804479, 'MOP': 9.054663, 'MRO': 402.639177, 'MUR': 49.290585, 'MVR': 17.372797, 'MWK': 920.726415, 'MXN': 23.706464, 'MYR': 4.775287, 'MZN': 71.990407, 'NAD': 18.056835, 'NGN': 462.629849, 'NIO': 39.704615, 'NOK': 10.217646, 'NPR': 136.622501, 'NZD': 1.673181, 'OMR': 0.434217, 'PAB': 1.127212, 'PEN': 4.57397, 'PGK': 3.957166, 'PHP': 56.781743, 'PKR': 200.722577, 'PLN': 4.641236, 'PYG': 7690.663704, 'QAR': 4.106476, 'RON': 4.949982, 'RSD': 117.58492, 'RUB': 82.898714, 'RWF': 1168.156769, 'SAR': 4.230804, 'SBD': 9.121313, 'SCR': 15.074954, 'SDG': 493.428984, 'SEK': 10.268765, 'SGD': 1.543733, 'SHP': 1.553486, 'SLL': 12667.914507, 'SOS': 659.787199, 'SRD': 24.29254, 'STD': 23344.039374, 'SVC': 9.863476, 'SYP': 2833.693317, 'SZL': 17.890918, 'THB': 37.695838, 'TJS': 12.725556, 'TMT': 3.947445, 'TND': 3.24424, 'TOP': 2.581291, 'TRY': 15.659767, 'TTD': 7.652242, 'TWD': 31.368201, 'TZS': 2598.546518, 'UAH': 30.336809, 'UGX': 4012.673122, 'USD': 1.127841, 'UYU': 49.836688, 'UZS': 12202.865378, 'VEF': 241166572127.05038, 'VND': 25909.336003, 'VUV': 127.731028, 'WST': 2.93258, 'XAF': 655.719429, 'XAG': 0.050725, 'XAU': 0.000631, 'XCD': 3.048048, 'XDR': 0.807308, 'XOF': 655.792084, 'XPF': 119.551591, 'YER': 282.242603, 'ZAR': 18.091568, 'ZMK': 10151.927487, 'ZMW': 18.231373, 'ZWL': 363.164463}}\n"
     ]
    }
   ],
   "source": [
    "#Write your code here\n",
    "data.head(5)\n",
    "\n",
    "url = \"http://api.exchangeratesapi.io/v1/latest?access_key=64f2dd905b60262e67c6fbaea42ff4f6\"  #Make sure to change ******* to your API key.\n",
    "r = requests.get(url)\n",
    "api_text = r.text\n",
    "dict_api = json.loads(api_text)\n",
    "\n",
    "data_frame_api = pd.DataFrame(dict_api, columns=['rates']).rename(columns={'rates':'Rates'})\n",
    "\n",
    "target_csv = 'exchange_rates_1.csv'\n",
    "data_frame_api.to_csv(target_csv)\n"
   ]
  },
  {
   "cell_type": "markdown",
   "metadata": {},
   "source": [
    "### Loading the Data\n",
    "\n",
    "Usually you will Load the `pandas` dataframe created above into a JSON named `bank_market_cap.json` using the `to_json()` function, but this time the data will be sent to another team who will split the data file into two files and inspect it. If you save the data it will interfere with the next part of the assignment.\n"
   ]
  },
  {
   "cell_type": "code",
   "execution_count": 102,
   "metadata": {},
   "outputs": [
    {
     "data": {
      "text/plain": [
       "\"\\nwith open('bank_market_cap.json', 'r') as a:\\n    print(a.readlines())\\n\""
      ]
     },
     "execution_count": 102,
     "metadata": {},
     "output_type": "execute_result"
    }
   ],
   "source": [
    "#Write your code here\n",
    "\n",
    "def Loading_to_json(target_file, dataframe):\n",
    "    dataframe.to_json(target_file)\n",
    "\n",
    "Loading_to_json('bank_market_cap.json', data)\n",
    "\n",
    "\n",
    "\"\"\"\n",
    "with open('bank_market_cap.json', 'r') as a:\n",
    "    print(a.readlines())\n",
    "\"\"\""
   ]
  },
  {
   "cell_type": "markdown",
   "metadata": {},
   "source": [
    "## Authors\n"
   ]
  },
  {
   "cell_type": "markdown",
   "metadata": {},
   "source": [
    "Ramesh Sannareddy, Joseph Santarcangelo and Azim Hirjani\n"
   ]
  },
  {
   "cell_type": "markdown",
   "metadata": {},
   "source": [
    "### Other Contributors\n"
   ]
  },
  {
   "cell_type": "markdown",
   "metadata": {},
   "source": [
    "Rav Ahuja\n"
   ]
  },
  {
   "cell_type": "markdown",
   "metadata": {},
   "source": [
    "## Change Log\n"
   ]
  },
  {
   "cell_type": "markdown",
   "metadata": {},
   "source": [
    "| Date (YYYY-MM-DD) | Version | Changed By        | Change Description                 |\n",
    "| ----------------- | ------- | ----------------- | ---------------------------------- |\n",
    "| 2020-11-25        | 0.1     | Ramesh Sannareddy | Created initial version of the lab |\n"
   ]
  },
  {
   "cell_type": "markdown",
   "metadata": {},
   "source": [
    "Copyright © 2020 IBM Corporation.\n"
   ]
  }
 ],
 "metadata": {
  "kernelspec": {
   "display_name": "Python",
   "language": "python",
   "name": "conda-env-python-py"
  },
  "language_info": {
   "codemirror_mode": {
    "name": "ipython",
    "version": 3
   },
   "file_extension": ".py",
   "mimetype": "text/x-python",
   "name": "python",
   "nbconvert_exporter": "python",
   "pygments_lexer": "ipython3",
   "version": "3.7.12"
  }
 },
 "nbformat": 4,
 "nbformat_minor": 4
}
